{
 "cells": [
  {
   "cell_type": "code",
   "execution_count": 1,
   "id": "ff74686f",
   "metadata": {
    "scrolled": false
   },
   "outputs": [
    {
     "name": "stdout",
     "output_type": "stream",
     "text": [
      "Enter URL: https://www.amazon.com/Machine-Learning-System-Design-Interview/dp/1736049127/ref=pd_rhf_d_dp_s_pd_crcd_sccl_2_1/132-3913147-4188669?pd_rd_w=gRs1P&content-id=amzn1.sym.00d48d87-58f5-40d6-a57e-e86c8bd4229e&pf_rd_p=00d48d87-58f5-40d6-a57e-e86c8bd4229e&pf_rd_r=RHM7NYA64D1V9AB3KSTH&pd_rd_wg=i48AL&pd_rd_r=32c654aa-f450-451c-8532-0059e5a310fd&pd_rd_i=1736049127&psc=1\n"
     ]
    },
    {
     "ename": "NameError",
     "evalue": "name 'BeautifulSoup' is not defined",
     "output_type": "error",
     "traceback": [
      "\u001b[1;31m---------------------------------------------------------------------------\u001b[0m",
      "\u001b[1;31mNameError\u001b[0m                                 Traceback (most recent call last)",
      "Cell \u001b[1;32mIn [1], line 9\u001b[0m\n\u001b[0;32m      7\u001b[0m headers \u001b[38;5;241m=\u001b[39m {\u001b[38;5;124m\"\u001b[39m\u001b[38;5;124mUser-Agent\u001b[39m\u001b[38;5;124m\"\u001b[39m: \u001b[38;5;124m\"\u001b[39m\u001b[38;5;124mMozilla/5.0 (Windows NT 10.0; Win64; x64) AppleWebKit/537.36 (KHTML, like Gecko) Chrome/108.0.0.0 Safari/537.36 Edg/108.0.1462.54\u001b[39m\u001b[38;5;124m\"\u001b[39m, \u001b[38;5;124m\"\u001b[39m\u001b[38;5;124mAccept-Encoding\u001b[39m\u001b[38;5;124m\"\u001b[39m:\u001b[38;5;124m\"\u001b[39m\u001b[38;5;124mgzip, deflate\u001b[39m\u001b[38;5;124m\"\u001b[39m, \u001b[38;5;124m\"\u001b[39m\u001b[38;5;124mAccept\u001b[39m\u001b[38;5;124m\"\u001b[39m:\u001b[38;5;124m\"\u001b[39m\u001b[38;5;124mtext/html,application/xhtml+xml,application/xml;q=0.9,*/*;q=0.\u001b[39m\u001b[38;5;124m\"\u001b[39m, \u001b[38;5;124m\"\u001b[39m\u001b[38;5;124mDNT\u001b[39m\u001b[38;5;124m\"\u001b[39m:\u001b[38;5;124m\"\u001b[39m\u001b[38;5;124m1\u001b[39m\u001b[38;5;124m\"\u001b[39m,\u001b[38;5;124m\"\u001b[39m\u001b[38;5;124mConnection\u001b[39m\u001b[38;5;124m\"\u001b[39m:\u001b[38;5;124m\"\u001b[39m\u001b[38;5;124mclose\u001b[39m\u001b[38;5;124m\"\u001b[39m, \u001b[38;5;124m\"\u001b[39m\u001b[38;5;124mUpgrade-Insecure-Requests\u001b[39m\u001b[38;5;124m\"\u001b[39m:\u001b[38;5;124m\"\u001b[39m\u001b[38;5;124m1\u001b[39m\u001b[38;5;124m\"\u001b[39m}\n\u001b[0;32m      8\u001b[0m page \u001b[38;5;241m=\u001b[39m requests\u001b[38;5;241m.\u001b[39mget(URL, headers\u001b[38;5;241m=\u001b[39mheaders)\n\u001b[1;32m----> 9\u001b[0m soup1 \u001b[38;5;241m=\u001b[39m \u001b[43mBeautifulSoup\u001b[49m(page\u001b[38;5;241m.\u001b[39mcontent, \u001b[38;5;124m\"\u001b[39m\u001b[38;5;124mhtml.parser\u001b[39m\u001b[38;5;124m\"\u001b[39m)\n\u001b[0;32m     10\u001b[0m soup2 \u001b[38;5;241m=\u001b[39m BeautifulSoup(soup1\u001b[38;5;241m.\u001b[39mprettify(), \u001b[38;5;124m\"\u001b[39m\u001b[38;5;124mhtml.parser\u001b[39m\u001b[38;5;124m\"\u001b[39m)\n\u001b[0;32m     11\u001b[0m \u001b[38;5;28mprint\u001b[39m(\u001b[38;5;124m\"\u001b[39m\u001b[38;5;124m========================================== Book title ==========================================\u001b[39m\u001b[38;5;124m\"\u001b[39m)\n",
      "\u001b[1;31mNameError\u001b[0m: name 'BeautifulSoup' is not defined"
     ]
    }
   ],
   "source": [
    "import requests\n",
    "import time\n",
    "import datetime\n",
    "import smtplib\n",
    "from bs4 import BeautifulSoup\n",
    "URL = input(\"Enter URL: \")\n",
    "# URL = 'https://www.amazon.com/Machine-Learning-System-Design-Interview/dp/1736049127/ref=pd_rhf_d_dp_s_pd_crcd_sccl_2_1/132-3913147-4188669?pd_rd_w=gRs1P&content-id=amzn1.sym.00d48d87-58f5-40d6-a57e-e86c8bd4229e&pf_rd_p=00d48d87-58f5-40d6-a57e-e86c8bd4229e&pf_rd_r=RHM7NYA64D1V9AB3KSTH&pd_rd_wg=i48AL&pd_rd_r=32c654aa-f450-451c-8532-0059e5a310fd&pd_rd_i=1736049127&psc=1'\n",
    "headers = {\"User-Agent\": \"Mozilla/5.0 (Windows NT 10.0; Win64; x64) AppleWebKit/537.36 (KHTML, like Gecko) Chrome/108.0.0.0 Safari/537.36 Edg/108.0.1462.54\", \"Accept-Encoding\":\"gzip, deflate\", \"Accept\":\"text/html,application/xhtml+xml,application/xml;q=0.9,*/*;q=0.\", \"DNT\":\"1\",\"Connection\":\"close\", \"Upgrade-Insecure-Requests\":\"1\"}\n",
    "page = requests.get(URL, headers=headers)\n",
    "soup1 = BeautifulSoup(page.content, \"html.parser\")\n",
    "soup2 = BeautifulSoup(soup1.prettify(), \"html.parser\")\n",
    "print(\"========================================== Book title ==========================================\")\n",
    "title = soup2.find(id='productTitle').get_text()\n",
    "print(title.strip())\n",
    "\n",
    "print(\"========================================== Book Price ==========================================\")\n",
    "\n",
    "price = soup2.find('div', id = 'tmmSwatches')\n",
    "for prtag in price.find_all('span', class_='a-size-base a-color-price a-color-price'):\n",
    "    print(prtag.text.strip())\n",
    "    \n",
    "print(\"========================================== Book Author ==========================================\")\n",
    "\n",
    "author = soup2.find('div', id='bylineInfo')\n",
    "for ptag in author.find_all('a', class_='a-link-normal'):\n",
    "    print(ptag.text.strip())\n",
    "    \n",
    "print(\"========================================== Publication Date ==========================================\")   \n",
    "\n",
    "pubDate = soup2.find('div', id =\"rpi-attribute-book_details-publication_date\")\n",
    "for p1tag in pubDate.find_all('div', class_='a-section a-spacing-none a-text-center rpi-attribute-value'):\n",
    "    print(p1tag.text.strip())\n",
    "    \n",
    "print(\"========================================== Book Language ==========================================\")\n",
    "\n",
    "language = soup2.find('div', id =\"rpi-attribute-language\")\n",
    "for p2tag in language.find_all('div', class_='a-section a-spacing-none a-text-center rpi-attribute-value'):\n",
    "    print(p2tag.text.strip())\n",
    "    \n",
    "print(\"========================================== Total Page ==========================================\")  \n",
    "\n",
    "pages = soup2.find('div', id = \"rpi-attribute-book_details-fiona_pages\")\n",
    "for p3tag in pages.find_all('div', class_='a-section a-spacing-none a-text-center rpi-attribute-value'):\n",
    "    print(p3tag.text.strip())\n",
    "    \n",
    "print(\"========================================== Author Details ==========================================\")\n",
    "\n",
    "EditorialReview = soup2.find('div', id = \"editorialReviews_feature_div\").get_text()\n",
    "e= EditorialReview.find(\"About the Author\")\n",
    "aboutauthor = EditorialReview[e+17:-26]\n",
    "print(\" \".join(aboutauthor.split()))\n",
    "\n",
    "print(\"========================================== Publisher ==========================================\") \n",
    "\n",
    "Publisher = soup2.find('div', id = \"detailBullets_feature_div\").get_text()\n",
    "Publisher1 = \" \".join(Publisher.split())\n",
    "i= Publisher1.find(\"Publisher\")\n",
    "j = Publisher1.find(\")\")\n",
    "pi = Publisher1[i:j+1]\n",
    "print(pi)\n",
    "\n",
    "print(\"========================================== Image Source ==========================================\") \n",
    "\n",
    "image = soup2.find('div', id =\"img-canvas\")    \n",
    "for img in image.find_all('img'):\n",
    "    print(img.get('src'))"
   ]
  },
  {
   "cell_type": "code",
   "execution_count": null,
   "id": "53598344",
   "metadata": {},
   "outputs": [],
   "source": []
  },
  {
   "cell_type": "code",
   "execution_count": 1,
   "id": "e812de11",
   "metadata": {},
   "outputs": [],
   "source": [
    "import xml.etree.ElementTree as ET"
   ]
  },
  {
   "cell_type": "code",
   "execution_count": null,
   "id": "b3c6ea31",
   "metadata": {},
   "outputs": [],
   "source": [
    "root = ET.Element('root')"
   ]
  },
  {
   "cell_type": "code",
   "execution_count": 9,
   "id": "0e14c6cf",
   "metadata": {},
   "outputs": [],
   "source": [
    "# Importing the ElementTree library\n",
    "import xml.etree.ElementTree as ET\n",
    "\n",
    "# Creating the root element\n",
    "root = ET.Element('root')\n",
    "\n",
    "# Creating child elements\n",
    "person = ET.SubElement(root, 'person')\n",
    "name = ET.SubElement(person, 'name')\n",
    "age = ET.SubElement(person, 'age')\n",
    "age1 = ET.SubElement(age, 'gender')\n",
    "\n",
    "# Setting text for child elements\n",
    "name.text = 'John Doe'\n",
    "age.text = '30'\n",
    "age1.text = 'M'\n",
    "\n",
    "# Creating an XML file\n",
    "tree = ET.ElementTree(root)\n",
    "tree.write('person.xml')\n"
   ]
  },
  {
   "cell_type": "code",
   "execution_count": null,
   "id": "437f695b",
   "metadata": {},
   "outputs": [],
   "source": []
  },
  {
   "cell_type": "code",
   "execution_count": null,
   "id": "c492d363",
   "metadata": {},
   "outputs": [],
   "source": []
  },
  {
   "cell_type": "code",
   "execution_count": null,
   "id": "510b957f",
   "metadata": {},
   "outputs": [],
   "source": []
  }
 ],
 "metadata": {
  "kernelspec": {
   "display_name": "Python 3 (ipykernel)",
   "language": "python",
   "name": "python3"
  },
  "language_info": {
   "codemirror_mode": {
    "name": "ipython",
    "version": 3
   },
   "file_extension": ".py",
   "mimetype": "text/x-python",
   "name": "python",
   "nbconvert_exporter": "python",
   "pygments_lexer": "ipython3",
   "version": "3.9.7"
  }
 },
 "nbformat": 4,
 "nbformat_minor": 5
}
