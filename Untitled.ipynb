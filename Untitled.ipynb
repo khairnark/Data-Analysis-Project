{
 "cells": [
  {
   "cell_type": "code",
   "execution_count": 23,
   "id": "098cba02",
   "metadata": {},
   "outputs": [],
   "source": [
    "import csv\n",
    "from bs4 import BeautifulSoup"
   ]
  },
  {
   "cell_type": "code",
   "execution_count": 24,
   "id": "f51fbbbc",
   "metadata": {},
   "outputs": [],
   "source": [
    "from selenium import webdriver"
   ]
  },
  {
   "cell_type": "code",
   "execution_count": 25,
   "id": "5e2ad9ae",
   "metadata": {},
   "outputs": [],
   "source": [
    "from msedge.selenium_tools import Edge, EdgeOptions"
   ]
  },
  {
   "cell_type": "code",
   "execution_count": 29,
   "id": "d6b8b89f",
   "metadata": {},
   "outputs": [],
   "source": [
    "from selenium import webdriver\n",
    "from bs4 import BeautifulSoup\n",
    "import pandas as pd"
   ]
  },
  {
   "cell_type": "code",
   "execution_count": 39,
   "id": "e078ff7a",
   "metadata": {
    "scrolled": true
   },
   "outputs": [
    {
     "data": {
      "text/plain": [
       "'<!DOCTYPE html>\\n<!--[if lt IE 7]> <html lang=\"en-us\" class=\"a-no-js a-lt-ie9 a-lt-ie8 a-lt-ie7\"> <![endif]-->\\n<!--[if IE 7]>    <html lang=\"en-us\" class=\"a-no-js a-lt-ie9 a-lt-ie8\"> <![endif]-->\\n<!--[if IE 8]>    <html lang=\"en-us\" class=\"a-no-js a-lt-ie9\"> <![endif]-->\\n<!--[if gt IE 8]><!-->\\n<html class=\"a-no-js\" lang=\"en-us\"><!--<![endif]--><head>\\n<meta http-equiv=\"content-type\" content=\"text/html; charset=UTF-8\">\\n<meta charset=\"utf-8\">\\n<meta http-equiv=\"X-UA-Compatible\" content=\"IE=edge,chrome=1\">\\n<title dir=\"ltr\">Amazon.in</title>\\n<meta name=\"viewport\" content=\"width=device-width\">\\n<link rel=\"stylesheet\" href=\"https://images-na.ssl-images-amazon.com/images/G/01/AUIClients/AmazonUI-3c913031596ca78a3768f4e934b1cc02ce238101.secure.min._V1_.css\">\\n<script>\\n\\nif (true === true) {\\n    var ue_t0 = (+ new Date()),\\n        ue_csm = window,\\n        ue = { t0: ue_t0, d: function() { return (+new Date() - ue_t0); } },\\n        ue_furl = \"fls-eu.amazon.in\",\\n        ue_mid = \"A21TJRUUN4KGV\",\\n        ue_sid = (document.cookie.match(/session-id=([0-9-]+)/) || [])[1],\\n        ue_sn = \"opfcaptcha.amazon.in\",\\n        ue_id = \\'HK8F0J2F04D4AV2FCMA3\\';\\n}\\n</script>\\n</head>\\n<body>\\n\\n<!--\\n        To discuss automated access to Amazon data please contact api-services-support@amazon.com.\\n        For information about migrating to our APIs refer to our Marketplace APIs at https://developer.amazonservices.in/ref=rm_c_sv, or our Product Advertising API at https://affiliate-program.amazon.in/gp/advertising/api/detail/main.html/ref=rm_c_ac for advertising use cases.\\n-->\\n\\n<!--\\nCorreios.DoNotSend\\n-->\\n\\n<div class=\"a-container a-padding-double-large\" style=\"min-width:350px;padding:44px 0 !important\">\\n\\n    <div class=\"a-row a-spacing-double-large\" style=\"width: 350px; margin: 0 auto\">\\n\\n        <div class=\"a-row a-spacing-medium a-text-center\"><i class=\"a-icon a-logo\"></i></div>\\n\\n        <div class=\"a-box a-alert a-alert-info a-spacing-base\">\\n            <div class=\"a-box-inner\">\\n                <i class=\"a-icon a-icon-alert\"></i>\\n                <h4>Enter the characters you see below</h4>\\n                <p class=\"a-last\">Sorry, we just need to make sure you\\'re not a robot. For best results, please make sure your browser is accepting cookies.</p>\\n                </div>\\n            </div>\\n\\n            <div class=\"a-section\">\\n\\n                <div class=\"a-box a-color-offset-background\">\\n                    <div class=\"a-box-inner a-padding-extra-large\">\\n\\n                        <form method=\"get\" action=\"/errors/validateCaptcha\" name=\"\">\\n                            <input type=hidden name=\"amzn\" value=\"jyP34Zz3ImuIyi18Rss2pg==\" /><input type=hidden name=\"amzn-r\" value=\"&#047;Complete&#045;Novels&#045;Sherlock&#045;Holmes&#047;dp&#047;8175994312&#047;ref&#061;sr_1_3?crid&#061;2OS6WIFDJ0WH5&amp;keywords&#061;bboks&amp;qid&#061;1671197687&amp;sprefix&#061;boks&#037;2Caps&#037;2C389&amp;sr&#061;8&#045;3\" />\\n                            <div class=\"a-row a-spacing-large\">\\n                                <div class=\"a-box\">\\n                                    <div class=\"a-box-inner\">\\n                                        <h4>Type the characters you see in this image:</h4>\\n                                        <!-- For automated access to price change or offer listing change events,\\n                                             please refer to the MWS Subscription API:\\n                                             https://developer.amazonservices.in/gp/mws/api.html/276-5247872-0590350?ie=UTF8&section=subscriptions&group=subscriptions&version=latest\\n                                        -->\\n                                        <div class=\"a-row a-text-center\">\\n                                            <img src=\"https://images-na.ssl-images-amazon.com/captcha/usvmgloq/Captcha_ueioxyetiw.jpg\">\\n                                        </div>\\n                                        <div class=\"a-row a-spacing-base\">\\n                                            <div class=\"a-row\">\\n                                                <div class=\"a-column a-span6\">\\n                                                </div>\\n                                                <div class=\"a-column a-span6 a-span-last a-text-right\">\\n                                                    <a onclick=\"window.location.reload()\">Try different image</a>\\n                                                </div>\\n                                            </div>\\n                                            <input autocomplete=\"off\" spellcheck=\"false\" placeholder=\"Type characters\" id=\"captchacharacters\" name=\"field-keywords\" class=\"a-span12\" autocapitalize=\"off\" autocorrect=\"off\" type=\"text\">\\n                                        </div>\\n                                    </div>\\n                                </div>\\n                            </div>\\n\\n                            <div class=\"a-section a-spacing-extra-large\">\\n\\n                                <div class=\"a-row\">\\n                                    <span class=\"a-button a-button-primary a-span12\">\\n                                        <span class=\"a-button-inner\">\\n                                            <button type=\"submit\" class=\"a-button-text\">Continue shopping</button>\\n                                        </span>\\n                                    </span>\\n                                </div>\\n\\n                            </div>\\n                        </form>\\n\\n                    </div>\\n                </div>\\n\\n            </div>\\n\\n        </div>\\n\\n        <div class=\"a-divider a-divider-section\"><div class=\"a-divider-inner\"></div></div>\\n\\n        <div class=\"a-text-center a-spacing-small a-size-mini\">\\n            <a href=\"https://www.amazon.in/gp/help/customer/display.html/ref=footer_cou?ie=UTF8&nodeId=200545940\">Conditions of Use &amp; Sale</a>\\n            <span class=\"a-letter-space\"></span>\\n            <span class=\"a-letter-space\"></span>\\n            <span class=\"a-letter-space\"></span>\\n            <span class=\"a-letter-space\"></span>\\n            <a href=\"https://www.amazon.in/gp/help/customer/display.html/ref=footer_privacy?ie=UTF8&nodeId=200534380\">Privacy Notice</a>\\n        </div>\\n\\n        <div class=\"a-text-center a-size-mini a-color-secondary\">\\n          &copy; 1996-2015, Amazon.com, Inc. or its affiliates\\n          <script>\\n           if (true === true) {\\n             document.write(\\'<img src=\"https://fls-eu.amaz\\'+\\'on.in/\\'+\\'1/oc-csi/1/OP/requestId=HK8F0J2F04D4AV2FCMA3&js=1\" />\\');\\n           };\\n          </script>\\n          <noscript>\\n            <img src=\"https://fls-eu.amazon.in/1/oc-csi/1/OP/requestId=HK8F0J2F04D4AV2FCMA3&js=0\" />\\n          </noscript>\\n        </div>\\n    </div>\\n    <script>\\n    if (true === true) {\\n        var head = document.getElementsByTagName(\\'head\\')[0],\\n            prefix = \"https://images-eu.ssl-images-amazon.com/images/G/01/csminstrumentation/\",\\n            elem = document.createElement(\"script\");\\n        elem.src = prefix + \"csm-captcha-instrumentation.min.js\";\\n        head.appendChild(elem);\\n\\n        elem = document.createElement(\"script\");\\n        elem.src = prefix + \"rd-script-6d68177fa6061598e9509dc4b5bdd08d.js\";\\n        head.appendChild(elem);\\n    }\\n    </script>\\n</body></html>\\n'"
      ]
     },
     "execution_count": 39,
     "metadata": {},
     "output_type": "execute_result"
    }
   ],
   "source": [
    "import requests\n",
    "url= 'https://www.amazon.in/Complete-Novels-Sherlock-Holmes/dp/8175994312/ref=sr_1_3?crid=2OS6WIFDJ0WH5&keywords=bboks&qid=1671197687&sprefix=boks%2Caps%2C389&sr=8-3'\n",
    "response= requests.get(url)\n",
    "response.status_code\n",
    "page_contents= response.text\n",
    "len(page_contents)\n",
    "page_contents[:712700]"
   ]
  },
  {
   "cell_type": "code",
   "execution_count": 40,
   "id": "f6660b39",
   "metadata": {},
   "outputs": [],
   "source": [
    "from bs4 import BeautifulSoup"
   ]
  },
  {
   "cell_type": "code",
   "execution_count": 41,
   "id": "ee8ac0b8",
   "metadata": {},
   "outputs": [],
   "source": [
    "doc = BeautifulSoup(page_contents, 'html.parser')"
   ]
  },
  {
   "cell_type": "code",
   "execution_count": 42,
   "id": "02ad74ca",
   "metadata": {},
   "outputs": [],
   "source": [
    "#extracting title of the book\n",
    "book_title_tags= doc.find_all('div',{\"class\": \"zg-grid-general-faceout\"})"
   ]
  },
  {
   "cell_type": "code",
   "execution_count": 43,
   "id": "77a2e9f6",
   "metadata": {},
   "outputs": [],
   "source": [
    "def get_book_title(book_title_tags):\n",
    "    Book_Titles=[]\n",
    "    for tag in book_title_tags:\n",
    "        Book_Titles.append(tag.find('span').text)\n",
    "    return Book_Titles\n",
    "# this function will give the titles of the books"
   ]
  },
  {
   "cell_type": "code",
   "execution_count": 49,
   "id": "3b9206b4",
   "metadata": {},
   "outputs": [
    {
     "data": {
      "text/plain": [
       "[]"
      ]
     },
     "execution_count": 49,
     "metadata": {},
     "output_type": "execute_result"
    }
   ],
   "source": [
    "get_book_title(book_title_tags)[:100000]"
   ]
  },
  {
   "cell_type": "code",
   "execution_count": null,
   "id": "bb5ea1e9",
   "metadata": {},
   "outputs": [],
   "source": []
  },
  {
   "cell_type": "code",
   "execution_count": 28,
   "id": "fac5731d",
   "metadata": {},
   "outputs": [],
   "source": [
    "import requests"
   ]
  },
  {
   "cell_type": "code",
   "execution_count": 29,
   "id": "3e764f47",
   "metadata": {},
   "outputs": [],
   "source": [
    "url= 'https://www.flipkart.com/search?q=bestseller%20book&otracker=search&otracker1=search&marketplace=FLIPKART&as-show=on&as=off'\n",
    "response= requests.get(url)"
   ]
  },
  {
   "cell_type": "code",
   "execution_count": 30,
   "id": "ce3f8a46",
   "metadata": {},
   "outputs": [
    {
     "data": {
      "text/plain": [
       "200"
      ]
     },
     "execution_count": 30,
     "metadata": {},
     "output_type": "execute_result"
    }
   ],
   "source": [
    "response.status_code"
   ]
  },
  {
   "cell_type": "code",
   "execution_count": 31,
   "id": "dda9c250",
   "metadata": {},
   "outputs": [],
   "source": [
    "page_contents= response.text"
   ]
  },
  {
   "cell_type": "code",
   "execution_count": 32,
   "id": "fea22b2f",
   "metadata": {},
   "outputs": [
    {
     "data": {
      "text/plain": [
       "192591"
      ]
     },
     "execution_count": 32,
     "metadata": {},
     "output_type": "execute_result"
    }
   ],
   "source": [
    "len(page_contents)"
   ]
  },
  {
   "cell_type": "code",
   "execution_count": 33,
   "id": "7639f3ec",
   "metadata": {},
   "outputs": [
    {
     "data": {
      "text/plain": [
       "'<!doctype html><html lang=\"en\"><head><link href=\"https://rukminim1.flixcart.com\" rel=\"preconnect\"/><link rel=\"stylesheet\" href=\"//static-assets-web.flixcart.com/fk-p-linchpin-web/fk-cp-zion/css/app_modules.chunk.905c37.css\"/><link rel=\"stylesheet\" href=\"//static-assets-web.flixcart.com/fk-p-linchpin-web/fk-cp-zion/css/app.chunk.4fb0ab.css\"/><meta http-equiv=\"Content-type\" content=\"text/html; charset=utf-8\"/><meta http-equiv=\"X-UA-Compatible\" content=\"IE=Edge\"/><meta property=\"fb:page_id\" content=\"102988293558\"/><meta property=\"fb:admins\" content=\"658873552,624500995,100000233612389\"/><meta name=\"robots\" content=\"noodp\"/><link rel=\"shortcut icon\" href=\"https:///www/promos/new/20150528-140547-favicon-retina.ico\"/><link type=\"application/opensearchdescription+xml\" rel=\"search\" href=\"/osdd.xml?v=2\"/><meta property=\"og:type\" content=\"website\"/><meta name=\"og_site_name\" property=\"og:site_name\" content=\"Flipkart.com\"/><link rel=\"apple-touch-icon\" sizes=\"57x57\" href=\"/apple-touch-icon-57x57.png\"/><link rel=\"apple-touch-icon\" sizes=\"72x72\" href=\"/apple-touch-icon-72x72.png\"/><link rel=\"apple-touch-icon\" sizes=\"114x114\" href=\"/apple-touch-icon-114x114.png\"/><link rel=\"apple-touch-icon\" sizes=\"144x144\" href=\"/apple-touch-icon-144x144.png\"/><link rel=\"apple-touch-icon\" href=\"/apple-touch-icon-57x57.png\"/><meta name=\"twitter:card\" content=\"app\"><meta name=\"twitter:site\" content=\"@flipkart\"><meta name=\"twitter:creator\" content=\"@flipkart\"><meta name=\"twitter:title\" content=\"Bestseller Book- Buy Products Online at Best Price in India - All Categories | Flipkart.com\"><meta name=\"twitter:description\" content=\"Shop for electronics, apparels & more using our Flipkart app Free shipping & COD.\"><meta name=\"twitter:app:country\" content=\"in\"><meta name=\"al:ios:app_name\" content=\"Flipkart\"><meta name=\"al:ios:app_store_id\" content=\"742044692\"><meta name=\"twitter:app:name:iphone\" content=\"Flipkart\"><meta name=\"twitter:app:id:iphone\" content=\"742044692\"><meta name=\"twitter:app:url:iphone\" con'"
      ]
     },
     "execution_count": 33,
     "metadata": {},
     "output_type": "execute_result"
    }
   ],
   "source": [
    "page_contents[:2000]"
   ]
  },
  {
   "cell_type": "code",
   "execution_count": 34,
   "id": "bfc041d8",
   "metadata": {},
   "outputs": [],
   "source": [
    "from bs4 import BeautifulSoup"
   ]
  },
  {
   "cell_type": "code",
   "execution_count": 35,
   "id": "14af4fac",
   "metadata": {},
   "outputs": [],
   "source": [
    "doc=BeautifulSoup(page_contents, 'html.parser')"
   ]
  },
  {
   "cell_type": "code",
   "execution_count": 36,
   "id": "612084fc",
   "metadata": {},
   "outputs": [],
   "source": [
    "# This function is going to parse the webpage using requests and beautifulsoup\n",
    "def get_page(url):\n",
    "    print(\"Scraping URL:\", url)\n",
    "    time.sleep(2)\n",
    "    response= requests.get(url)\n",
    "    print (\"Status code:\",response.status_code)\n",
    "    page_contents= response.text\n",
    "    with open('webpage.html', 'w') as f:\n",
    "        f.write(response.text)\n",
    "    doc = BeautifulSoup(page_contents, 'html.parser')\n",
    "    return doc\n",
    "    "
   ]
  },
  {
   "cell_type": "code",
   "execution_count": 37,
   "id": "ef8aa02d",
   "metadata": {},
   "outputs": [],
   "source": [
    "#extracting title of the book\n",
    "book_title_tags= doc.find_all('div',{\"class\": \"zg-grid-general-faceout\"})"
   ]
  },
  {
   "cell_type": "code",
   "execution_count": 38,
   "id": "47340e64",
   "metadata": {},
   "outputs": [
    {
     "data": {
      "text/plain": [
       "0"
      ]
     },
     "execution_count": 38,
     "metadata": {},
     "output_type": "execute_result"
    }
   ],
   "source": [
    "len(book_title_tags)"
   ]
  },
  {
   "cell_type": "code",
   "execution_count": null,
   "id": "3a0a1783",
   "metadata": {},
   "outputs": [],
   "source": []
  },
  {
   "cell_type": "code",
   "execution_count": null,
   "id": "b183f844",
   "metadata": {},
   "outputs": [],
   "source": []
  },
  {
   "cell_type": "code",
   "execution_count": 42,
   "id": "8c4586f7",
   "metadata": {},
   "outputs": [
    {
     "name": "stdout",
     "output_type": "stream",
     "text": [
      "[]\n"
     ]
    }
   ],
   "source": [
    "from bs4 import BeautifulSoup\n",
    "import requests\n",
    "import csv\n",
    "\n",
    "\n",
    "# get html\n",
    "url = \"https://www.amazon.in/gp/bestsellers/books/\"\n",
    "\n",
    "# change the user-agent value based on your web browser\n",
    "headers = {'user-agent': 'Mozilla/5.0 (Windows NT 10.0; Win64; x64) AppleWebKit/537.36 (KHTML, like Gecko) Chrome/108.0.0.0 Safari/537.36'}\n",
    "\n",
    "page = requests.get(url, headers=headers)\n",
    "\n",
    "soup = BeautifulSoup(page.content, 'html.parser')\n",
    "# print(soup)\n",
    "\n",
    "# get all books\n",
    "books = soup.find_all(id=\"gridItemRoot\")\n",
    "print(books)\n",
    "\n",
    "csv_headers = ['Rank', 'Title', 'Author', 'Price']\n",
    "with open('amazon_books.csv', 'w', encoding='utf-8', newline='') as f:\n",
    "    writer = csv.writer(f)\n",
    "    writer.writerow(csv_headers)\n",
    "\n",
    "\n",
    "for book in books:\n",
    "\n",
    "    rank = book.find('span', class_='zg-bdg-text').text[1:]\n",
    "\n",
    "    children = book.find('div', class_='zg-grid-general-faceout').div\n",
    "\n",
    "    title = children.contents[1].text\n",
    "    author = children.contents[2].text\n",
    "    price = children.contents[-1].text\n",
    "   \n",
    "    with open('amazon_books.csv', 'a', encoding='utf-8', newline='') as f:\n",
    "        writer = csv.writer(f)\n",
    "        writer.writerow([rank, title, author, price])"
   ]
  },
  {
   "cell_type": "code",
   "execution_count": 45,
   "id": "a97134dc",
   "metadata": {},
   "outputs": [
    {
     "name": "stdout",
     "output_type": "stream",
     "text": [
      "1 GB\n"
     ]
    }
   ],
   "source": [
    "# from BeautifulSoup import BeautifulSoup as BSHTML\n",
    "from bs4 import BeautifulSoup as BSHTML\n",
    "\n",
    "htmlText = \"\"\"<div class=\"systemRequirementsMainBox\">\n",
    "<div class=\"systemRequirementsRamContent\">\n",
    "<span title=\"000 Plus Minimum RAM Requirement\">1 GB</span> </div>\"\"\"\n",
    "\n",
    "htmlText = '''<div class=\"a-section a-spacing-none a-text-center rpi-attribute-value\">\n",
    "<span>'''\n",
    "\n",
    "soup = BSHTML(htmlText)\n",
    "spans = soup.findAll('span')\n",
    "# spans = soup.findAll('span', attrs = {'class' : 'your-class-name'}) # or span by class name\n",
    "# spans = soup.findAll('span', attrs = {'title' : '000 Plus Minimum RAM Requirement'}) # or span with a title\n",
    "for span in spans:\n",
    "    print(span.text) "
   ]
  },
  {
   "cell_type": "code",
   "execution_count": null,
   "id": "0f726911",
   "metadata": {},
   "outputs": [],
   "source": []
  }
 ],
 "metadata": {
  "kernelspec": {
   "display_name": "Python 3 (ipykernel)",
   "language": "python",
   "name": "python3"
  },
  "language_info": {
   "codemirror_mode": {
    "name": "ipython",
    "version": 3
   },
   "file_extension": ".py",
   "mimetype": "text/x-python",
   "name": "python",
   "nbconvert_exporter": "python",
   "pygments_lexer": "ipython3",
   "version": "3.9.7"
  }
 },
 "nbformat": 4,
 "nbformat_minor": 5
}
