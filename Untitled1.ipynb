{
 "cells": [
  {
   "cell_type": "code",
   "execution_count": 63,
   "id": "6cc222b3",
   "metadata": {},
   "outputs": [],
   "source": [
    "import requests\n",
    "import time\n",
    "import datetime\n",
    "import smtplib\n",
    "from bs4 import BeautifulSoup\n",
    "# URL = input(\"Enter URL: \")"
   ]
  },
  {
   "cell_type": "code",
   "execution_count": 64,
   "id": "beb93368",
   "metadata": {
    "scrolled": false
   },
   "outputs": [],
   "source": [
    "URL = 'https://www.goodreads.com/book/show/4386485-animals-make-us-human'\n",
    "headers = {\"User-Agent\": \"Mozilla/5.0 (Windows NT 10.0; Win64; x64) AppleWebKit/537.36 (KHTML, like Gecko) Chrome/108.0.0.0 Safari/537.36 Edg/108.0.1462.54\", \"Accept-Encoding\":\"gzip, deflate\", \"Accept\":\"text/html,application/xhtml+xml,application/xml;q=0.9,*/*;q=0.\", \"DNT\":\"1\",\"Connection\":\"close\", \"Upgrade-Insecure-Requests\":\"1\"}\n",
    "page = requests.get(URL, headers=headers)\n",
    "soup1 = BeautifulSoup(page.content, \"html.parser\")\n",
    "soup2 = BeautifulSoup(soup1.prettify(), \"html.parser\")\n",
    "# soup2.find_all(\"div\")"
   ]
  },
  {
   "cell_type": "code",
   "execution_count": 65,
   "id": "23ec1a1f",
   "metadata": {},
   "outputs": [
    {
     "name": "stdout",
     "output_type": "stream",
     "text": [
      "Animals Make Us Human: Creating the Best Life for Animals\n"
     ]
    }
   ],
   "source": [
    "BookTitle = soup2.find('div', id = '__next')\n",
    "for prtag in BookTitle.find_all('h1', class_='Text Text__title1'):\n",
    "    print(prtag.text.strip())"
   ]
  },
  {
   "cell_type": "code",
   "execution_count": 66,
   "id": "f2385b3e",
   "metadata": {},
   "outputs": [
    {
     "name": "stdout",
     "output_type": "stream",
     "text": [
      "Temple Grandin                            ,                            Catherine  Johnson\n"
     ]
    }
   ],
   "source": [
    "Author = soup2.find('div', id = '__next')\n",
    "for prtag in Author.find_all('div', class_='BookPageMetadataSection__contributor'):\n",
    "    print(prtag.text.strip().replace('\\n', ''))"
   ]
  },
  {
   "cell_type": "code",
   "execution_count": 67,
   "id": "3bad82af",
   "metadata": {},
   "outputs": [
    {
     "name": "stdout",
     "output_type": "stream",
     "text": [
      "341 pages, Hardcover                             First published January 6, 2009\n"
     ]
    }
   ],
   "source": [
    "page = soup2.find('div', id = '__next')\n",
    "for prtag in page.find_all('div', class_='FeaturedDetails'):\n",
    "    print(prtag.text.strip().replace('\\n', ''))"
   ]
  },
  {
   "cell_type": "code",
   "execution_count": 94,
   "id": "9ad31026",
   "metadata": {
    "scrolled": true
   },
   "outputs": [
    {
     "name": "stdout",
     "output_type": "stream",
     "text": [
      "The best-selling animal advocate Temple Grandin offers the most exciting exploration of how animals feel since The Hidden Life of Dogs.\n",
      "               \n",
      "\n",
      "               In her groundbreaking and best-selling book Animals in Translation, Temple Grandin drew on her own experience with autism as well as her distinguished career as an animal scientist to deliver extraordinary insights into how animals think, act, and feel.Now she builds on those insights to show us how to give our animals the best and happiest lifeâ€”on their terms, not ours.\n",
      "               \n",
      "\n",
      "               Itâ€™s usually easy to pinpoint the cause of physical pain in animals, but to know what is causing them emotional distress is much harder.Drawing on the latest research and her own work,Grandin identifies the core emotional needs of animals.Then she explains how to fulfill them for dogs and cats, horses, farm animals, and zoo animals.Whether itâ€™s how to make the healthiest environment for the dog you must leave alone most of the day, how to keep pigs from being bored, or how to know if the lion pacing in the zoo is miserable or just exercising,Grandin teaches us to challenge our assumptions about animal contentment and honor our bond with our fellow creatures.\n",
      "               \n",
      "\n",
      "               Animals Make Us Human is the culmination of almost thirty years of research, experimentation, and experience.\n",
      "               \n",
      "\n",
      "               This is essential reading for anyone whoâ€™s ever owned, cared for, or simply cared about an animal.\n"
     ]
    }
   ],
   "source": [
    "description = soup2.find('div', id = '__next')\n",
    "for prtag in description.find_all('div', class_='BookPageMetadataSection__description'):\n",
    "    print(prtag.text.strip().replace('/n', ''))"
   ]
  },
  {
   "cell_type": "code",
   "execution_count": 96,
   "id": "b25d7093",
   "metadata": {},
   "outputs": [
    {
     "name": "stdout",
     "output_type": "stream",
     "text": [
      "341 pages, Hardcover                             First published January 6, 2009                            Book details & editions\n"
     ]
    }
   ],
   "source": [
    "edition = soup2.find('div', id = '__next')\n",
    "for prtag in edition.find_all('div', class_='CollapsableList'):\n",
    "    print(prtag.text.strip().replace('\\n', ''))"
   ]
  },
  {
   "cell_type": "code",
   "execution_count": 108,
   "id": "183a5c53",
   "metadata": {},
   "outputs": [],
   "source": [
    "edition1 = soup2.find('div', id = '__next')\n",
    "for prtag in edition1.find_all('d1', class_='MoreEditions'):\n",
    "    print(prtag.text.strip().replace('\\n', ''))"
   ]
  },
  {
   "cell_type": "code",
   "execution_count": 11,
   "id": "620c3cf9",
   "metadata": {},
   "outputs": [],
   "source": [
    "import requests\n",
    "from bs4 import BeautifulSoup\n",
    "url= 'https://www.goodreads.com/book/show/4386485-animals-make-us-human'\n",
    "def scrape_goodreads(url):\n",
    "    # Send a GET request to the URL\n",
    "    response = requests.get(url)\n",
    "    # Create a BeautifulSoup object\n",
    "    soup = BeautifulSoup(response.text, 'html.parser')\n",
    "    # Find all book containers on the page\n",
    "    book_containers = soup.find_all('tr', itemtype='http://schema.org/Book')\n",
    "\n",
    "    # Iterate over each book container and extract the desired information\n",
    "    for book in book_containers:\n",
    "        # Extract title\n",
    "        title = book.find('a', class_='bookTitle').text.strip()\n",
    "        # Extract author\n",
    "        author = book.find('a', class_='authorName').text.strip()\n",
    "        # Extract average rating\n",
    "        rating = book.find('span', class_='minirating').text.strip()\n",
    "        print(f\"Title: {title}\")\n",
    "        print(f\"Author: {author}\")\n",
    "        print(f\"Average Rating: {rating}\")\n",
    "        print()\n",
    "\n",
    "# Example usage\n",
    "scrape_goodreads('https://www.goodreads.com/book/show/4386485-animals-make-us-human')\n",
    "\n"
   ]
  },
  {
   "cell_type": "code",
   "execution_count": null,
   "id": "3faa65f6",
   "metadata": {},
   "outputs": [],
   "source": []
  },
  {
   "cell_type": "code",
   "execution_count": null,
   "id": "5928a5f4",
   "metadata": {},
   "outputs": [],
   "source": []
  },
  {
   "cell_type": "code",
   "execution_count": null,
   "id": "ec23505a",
   "metadata": {},
   "outputs": [],
   "source": []
  },
  {
   "cell_type": "code",
   "execution_count": 71,
   "id": "6c286542",
   "metadata": {
    "scrolled": true
   },
   "outputs": [],
   "source": [
    "import requests\n",
    "from bs4 import BeautifulSoup\n",
    "\n",
    "def scrape_book_info(url):\n",
    "    response = requests.get(url)\n",
    "    soup = BeautifulSoup(response.text, 'html.parser')\n",
    "#     print(soup)\n",
    "    \n",
    "    # Extract book title\n",
    "    title = soup.find('h1', class_='Text Text__title1').text.strip()\n",
    "    print(\"Title:\", title)\n",
    "    print(\"==========================================\")\n",
    "    # Extract author name\n",
    "    \n",
    "    \n",
    "    Author = soup.find('div', id = '__next')\n",
    "    for prtag in Author.find_all('div', class_='BookPageMetadataSection__contributor'):\n",
    "        print(\"Author:\",prtag.text.strip().replace('\\n', ''))\n",
    "        print(\"==========================================\")\n",
    "\n",
    "    # Extract average rating\n",
    "    rating = soup.find('div', class_='RatingStatistics__rating').text.strip()\n",
    "    print(\"Average Rating:\", rating)\n",
    "    print(\"==========================================\")\n",
    "    \n",
    "    # Extract book description\n",
    "    description = soup.find('div', class_='BookPageMetadataSection__description').find('span', style=False).text.strip()\n",
    "    print(\"Description:\", description)\n",
    "    print(\"==========================================\")\n",
    "    \n",
    "    # Find the author's about section\n",
    "    author = soup.find('div', class_ = 'TruncatedContent').find('span', style=False).text.strip()\n",
    "    print(\"About Author:\", author)\n",
    "    print(\"==========================================\")"
   ]
  },
  {
   "cell_type": "code",
   "execution_count": 72,
   "id": "61aaaae5",
   "metadata": {},
   "outputs": [
    {
     "name": "stdout",
     "output_type": "stream",
     "text": [
      "Title: Animals Make Us Human: Creating the Best Life for Animals\n",
      "==========================================\n",
      "Author: Temple Grandin, Catherine Johnson\n",
      "==========================================\n",
      "Average Rating: 4.02\n",
      "==========================================\n",
      "Description: A NEW YORK TIMES BESTSELLERFrom beloved animal expert Temple Grandin, a fascinating exploration on how animals feel—essential reading for anyone who’s ever owned, cared for, or simply cared about an animal.While it’s usually easy to pinpoint the cause of physical pain in animals, to know what’s causing them emotional distress is much harder. Drawing on the latest research and her own work, Grandin identifies the core emotional needs of animals. Then she explains how to fulfill them for dogs and cats, horses, farm animals, and zoo animals. Whether it’s how to make the healthiest environment for the dog you must leave alone most of the day, how to keep pigs from being bored, or how to know if the lion pacing in the zoo is miserable or just exercising, Grandin teaches us to challenge our assumptions about animal contentment and honor our bond with our fellow creatures.\n",
      "==========================================\n",
      "About Author: A NEW YORK TIMES BESTSELLERFrom beloved animal expert Temple Grandin, a fascinating exploration on how animals feel—essential reading for anyone who’s ever owned, cared for, or simply cared about an animal.While it’s usually easy to pinpoint the cause of physical pain in animals, to know what’s causing them emotional distress is much harder. Drawing on the latest research and her own work, Grandin identifies the core emotional needs of animals. Then she explains how to fulfill them for dogs and cats, horses, farm animals, and zoo animals. Whether it’s how to make the healthiest environment for the dog you must leave alone most of the day, how to keep pigs from being bored, or how to know if the lion pacing in the zoo is miserable or just exercising, Grandin teaches us to challenge our assumptions about animal contentment and honor our bond with our fellow creatures.\n",
      "==========================================\n"
     ]
    }
   ],
   "source": [
    "# # Example usage\n",
    "scrape_book_info('https://www.goodreads.com/book/show/6358621-animals-make-us-human')"
   ]
  },
  {
   "cell_type": "code",
   "execution_count": null,
   "id": "a2c860a1",
   "metadata": {},
   "outputs": [],
   "source": []
  }
 ],
 "metadata": {
  "kernelspec": {
   "display_name": "Python 3 (ipykernel)",
   "language": "python",
   "name": "python3"
  },
  "language_info": {
   "codemirror_mode": {
    "name": "ipython",
    "version": 3
   },
   "file_extension": ".py",
   "mimetype": "text/x-python",
   "name": "python",
   "nbconvert_exporter": "python",
   "pygments_lexer": "ipython3",
   "version": "3.9.7"
  }
 },
 "nbformat": 4,
 "nbformat_minor": 5
}
